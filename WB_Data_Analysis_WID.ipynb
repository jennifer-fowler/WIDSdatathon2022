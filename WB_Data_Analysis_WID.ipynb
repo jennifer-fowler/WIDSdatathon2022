{
  "nbformat": 4,
  "nbformat_minor": 0,
  "metadata": {
    "colab": {
      "provenance": []
    },
    "kernelspec": {
      "name": "python3",
      "display_name": "Python 3"
    },
    "language_info": {
      "name": "python"
    }
  },
  "cells": [
    {
      "cell_type": "code",
      "execution_count": 1,
      "metadata": {
        "id": "QUpGPpIXtKfc"
      },
      "outputs": [],
      "source": [
        "# import packages\n",
        "import os\n",
        "import pandas as pd\n",
        "import numpy as np\n",
        "import seaborn as sns\n",
        "import matplotlib.pyplot as plt"
      ]
    },
    {
      "cell_type": "code",
      "source": [
        "# Upload the dataset csv file to the session storage \n",
        "# using the file explorer on the left\n",
        "# right-click to get the file path\n",
        "# then load it to the notebook\n",
        "wbd = pd.read_csv('/content/wb-disc1.csv')"
      ],
      "metadata": {
        "id": "SyHm4Z6KtRXj"
      },
      "execution_count": 141,
      "outputs": []
    },
    {
      "cell_type": "markdown",
      "source": [
        "The variables related to discrimination laws that we are interested in are: \n",
        "\n",
        "* SG.LEG.SXHR.EM : There is legislation on sexual harassment in \n",
        "employment (1=yes; 0=no)\n",
        "* SG.DML.PRGW : Dismissal of pregnant workers is prohibited (1=yes; 0=no)\n",
        "* SG.LAW.EQRM.WK : Law mandates equal remuneration for females and males for work of equal value (1=yes; 0=no)\n",
        "* SG.LAW.NODC.HR : The law prohibits discrimination in employment based on gender (1=yes; 0=no)\n",
        "* SG.LAW.CRDD.GR : The law prohibits discrimination in access to credit based on gender (1=yes; 0=no)\n",
        "* SG.LAW.NMCN : The law provides for the valuation of nonmonetary contributions (1=yes; 0=no)\n",
        "* SG.GET.JOBS.EQ : A woman can get a job in the same way as a man (1=yes; 0=no)\n",
        "* SG.BUS.REGT.EQ : A woman can register a business in the same way as a man (1=yes; 0=no)"
      ],
      "metadata": {
        "id": "6GbC4hXnthWF"
      }
    },
    {
      "cell_type": "code",
      "source": [
        "# quick check\n",
        "print(wbd.columns, len(wbd.columns))"
      ],
      "metadata": {
        "colab": {
          "base_uri": "https://localhost:8080/"
        },
        "id": "gB1lXQUNtbAs",
        "outputId": "2c979061-05ec-41ca-978d-ddf08ba4ad32"
      },
      "execution_count": 142,
      "outputs": [
        {
          "output_type": "stream",
          "name": "stdout",
          "text": [
            "Index(['CountryName', 'CountryCode', 'Year', 'CountryYear', 'SG.LAW.EQRM.WK',\n",
            "       'SG.LAW.NODC.HR', 'SG.LAW.CRDD.GR', 'SG.LAW.NMCN', 'SG.DML.PRGW',\n",
            "       'SG.LEG.SXHR.EM', 'SG.GET.JOBS.EQ', 'SG.BUS.REGT.EQ'],\n",
            "      dtype='object') 12\n"
          ]
        }
      ]
    },
    {
      "cell_type": "markdown",
      "source": [
        "We are interested in when the status for each law of interest changed, so we need to generate additional columns to calculate any changes from year to year in each of the features listed above:\n",
        "* EQRM-CHG\n",
        "* NODC-CHG\n",
        "* CRDD-CHG\n",
        "* NMCN-CHG\n",
        "* PRGW-CHG\n",
        "* SXHR-CHG\n",
        "* JOBS-CHG\n",
        "* REGT-CHG\n",
        "\n",
        "Then we can filter the data and look for non-zero values in the -chg columns."
      ],
      "metadata": {
        "id": "-TqqoKKOwpFy"
      }
    },
    {
      "cell_type": "code",
      "source": [
        "#creating a new column to take the difference in each row for each existing column\n",
        "wbd['change_EQRM'] = wbd['SG.LAW.EQRM.WK'].diff()\n",
        "wbd['change_NODC'] = wbd['SG.LAW.NODC.HR'].diff()\n",
        "wbd['change_SXHR'] = wbd['SG.LEG.SXHR.EM'].diff()\n",
        "wbd['change_NMCN'] = wbd['SG.LAW.NMCN'].diff()\n",
        "wbd['change_PRGW'] = wbd['SG.DML.PRGW'].diff()\n",
        "wbd['change_REGT'] = wbd['SG.BUS.REGT.EQ'].diff()\n",
        "wbd['change_CRDD'] = wbd['SG.LAW.CRDD.GR'].diff()\n",
        "wbd['change_JOBS'] = wbd['SG.GET.JOBS.EQ'].diff()"
      ],
      "metadata": {
        "id": "X29W8R-nwnt7"
      },
      "execution_count": 143,
      "outputs": []
    },
    {
      "cell_type": "code",
      "source": [
        "# quick check\n",
        "print(wbd.head())"
      ],
      "metadata": {
        "colab": {
          "base_uri": "https://localhost:8080/"
        },
        "id": "8DZVtY3TxJ-9",
        "outputId": "25b0cbe3-981d-4c30-85cb-2821690fff77"
      },
      "execution_count": 144,
      "outputs": [
        {
          "output_type": "stream",
          "name": "stdout",
          "text": [
            "   CountryName CountryCode  Year CountryYear  SG.LAW.EQRM.WK  SG.LAW.NODC.HR  \\\n",
            "0  Afghanistan         AFG  1970     AFG1970               0               0   \n",
            "1  Afghanistan         AFG  1971     AFG1971               0               0   \n",
            "2  Afghanistan         AFG  1972     AFG1972               0               0   \n",
            "3  Afghanistan         AFG  1973     AFG1973               0               0   \n",
            "4  Afghanistan         AFG  1974     AFG1974               0               0   \n",
            "\n",
            "   SG.LAW.CRDD.GR  SG.LAW.NMCN  SG.DML.PRGW  SG.LEG.SXHR.EM  SG.GET.JOBS.EQ  \\\n",
            "0               1            0            0               0               1   \n",
            "1               1            0            0               0               1   \n",
            "2               1            0            0               0               1   \n",
            "3               1            0            0               0               1   \n",
            "4               1            0            0               0               1   \n",
            "\n",
            "   SG.BUS.REGT.EQ  change_EQRM  change_NODC  change_SXHR  change_NMCN  \\\n",
            "0               1          NaN          NaN          NaN          NaN   \n",
            "1               1          0.0          0.0          0.0          0.0   \n",
            "2               1          0.0          0.0          0.0          0.0   \n",
            "3               1          0.0          0.0          0.0          0.0   \n",
            "4               1          0.0          0.0          0.0          0.0   \n",
            "\n",
            "   change_PRGW  change_REGT  change_CRDD  change_JOBS  \n",
            "0          NaN          NaN          NaN          NaN  \n",
            "1          0.0          0.0          0.0          0.0  \n",
            "2          0.0          0.0          0.0          0.0  \n",
            "3          0.0          0.0          0.0          0.0  \n",
            "4          0.0          0.0          0.0          0.0  \n"
          ]
        }
      ]
    },
    {
      "cell_type": "code",
      "source": [
        "# this resulted in NaN values for 1970 because there is no prior record\n",
        "# let's remove those\n",
        "wbd = wbd[wbd.Year != 1970]\n",
        "print(wbd.head())"
      ],
      "metadata": {
        "colab": {
          "base_uri": "https://localhost:8080/"
        },
        "id": "9uJIensM3f2G",
        "outputId": "d746389b-4e41-480b-ad88-7b8a6f4fbc36"
      },
      "execution_count": 145,
      "outputs": [
        {
          "output_type": "stream",
          "name": "stdout",
          "text": [
            "   CountryName CountryCode  Year CountryYear  SG.LAW.EQRM.WK  SG.LAW.NODC.HR  \\\n",
            "1  Afghanistan         AFG  1971     AFG1971               0               0   \n",
            "2  Afghanistan         AFG  1972     AFG1972               0               0   \n",
            "3  Afghanistan         AFG  1973     AFG1973               0               0   \n",
            "4  Afghanistan         AFG  1974     AFG1974               0               0   \n",
            "5  Afghanistan         AFG  1975     AFG1975               0               0   \n",
            "\n",
            "   SG.LAW.CRDD.GR  SG.LAW.NMCN  SG.DML.PRGW  SG.LEG.SXHR.EM  SG.GET.JOBS.EQ  \\\n",
            "1               1            0            0               0               1   \n",
            "2               1            0            0               0               1   \n",
            "3               1            0            0               0               1   \n",
            "4               1            0            0               0               1   \n",
            "5               1            0            0               0               1   \n",
            "\n",
            "   SG.BUS.REGT.EQ  change_EQRM  change_NODC  change_SXHR  change_NMCN  \\\n",
            "1               1          0.0          0.0          0.0          0.0   \n",
            "2               1          0.0          0.0          0.0          0.0   \n",
            "3               1          0.0          0.0          0.0          0.0   \n",
            "4               1          0.0          0.0          0.0          0.0   \n",
            "5               1          0.0          0.0          0.0          0.0   \n",
            "\n",
            "   change_PRGW  change_REGT  change_CRDD  change_JOBS  \n",
            "1          0.0          0.0          0.0          0.0  \n",
            "2          0.0          0.0          0.0          0.0  \n",
            "3          0.0          0.0          0.0          0.0  \n",
            "4          0.0          0.0          0.0          0.0  \n",
            "5          0.0          0.0          0.0          0.0  \n"
          ]
        }
      ]
    },
    {
      "cell_type": "code",
      "source": [
        "# create a dataframe without the original binary features\n",
        "# and remove the additional index columns for later purposes\n",
        "wb3 = wbd.drop(columns=['change_EQRM', 'change_NMCN', 'change_SXHR', 'change_NODC', 'change_CRDD', 'change_JOBS', 'change_REGT', 'change_PRGW', 'SG.LAW.EQRM.WK', 'SG.LAW.NODC.HR', 'SG.LAW.CRDD.GR', 'SG.LAW.NMCN', 'SG.DML.PRGW', 'SG.LEG.SXHR.EM', 'SG.GET.JOBS.EQ', 'SG.BUS.REGT.EQ'])\n",
        "wb2 = wbd.drop(columns=['CountryCode','CountryName', 'Year', 'SG.LAW.EQRM.WK', 'SG.LAW.NODC.HR', 'SG.LAW.CRDD.GR', 'SG.LAW.NMCN', 'SG.DML.PRGW', 'SG.LEG.SXHR.EM', 'SG.GET.JOBS.EQ', 'SG.BUS.REGT.EQ'])"
      ],
      "metadata": {
        "id": "XPc79it0v950"
      },
      "execution_count": 149,
      "outputs": []
    },
    {
      "cell_type": "code",
      "source": [
        "# quick check\n",
        "print(wb2.columns, len(wb2.columns))"
      ],
      "metadata": {
        "colab": {
          "base_uri": "https://localhost:8080/"
        },
        "id": "5T3ZBj5fyXUo",
        "outputId": "11fefd4c-bc8d-4f60-91dc-eb6de7bb1719"
      },
      "execution_count": 150,
      "outputs": [
        {
          "output_type": "stream",
          "name": "stdout",
          "text": [
            "Index(['CountryYear', 'change_EQRM', 'change_NODC', 'change_SXHR',\n",
            "       'change_NMCN', 'change_PRGW', 'change_REGT', 'change_CRDD',\n",
            "       'change_JOBS'],\n",
            "      dtype='object') 9\n"
          ]
        }
      ]
    },
    {
      "cell_type": "code",
      "source": [
        "# quick check\n",
        "print(wb3.columns, len(wb3.columns))"
      ],
      "metadata": {
        "colab": {
          "base_uri": "https://localhost:8080/"
        },
        "id": "XOc4YrJ8EMK2",
        "outputId": "735cb7bb-bd3c-4686-d992-273f7ee171b0"
      },
      "execution_count": 151,
      "outputs": [
        {
          "output_type": "stream",
          "name": "stdout",
          "text": [
            "Index(['CountryName', 'CountryCode', 'Year', 'CountryYear'], dtype='object') 4\n"
          ]
        }
      ]
    },
    {
      "cell_type": "code",
      "source": [
        "# quick check\n",
        "print(wb2.head())"
      ],
      "metadata": {
        "colab": {
          "base_uri": "https://localhost:8080/"
        },
        "id": "LVablH73zLy0",
        "outputId": "28c3d041-3c02-4f7d-9670-16e8dc1ed9b6"
      },
      "execution_count": 110,
      "outputs": [
        {
          "output_type": "stream",
          "name": "stdout",
          "text": [
            "  CountryYear  change_EQRM  change_NODC  change_SXHR  change_NMCN  \\\n",
            "1     AFG1971          0.0          0.0          0.0          0.0   \n",
            "2     AFG1972          0.0          0.0          0.0          0.0   \n",
            "3     AFG1973          0.0          0.0          0.0          0.0   \n",
            "4     AFG1974          0.0          0.0          0.0          0.0   \n",
            "5     AFG1975          0.0          0.0          0.0          0.0   \n",
            "\n",
            "   change_PRGW  change_REGT  change_CRDD  change_JOBS  \n",
            "1          0.0          0.0          0.0          0.0  \n",
            "2          0.0          0.0          0.0          0.0  \n",
            "3          0.0          0.0          0.0          0.0  \n",
            "4          0.0          0.0          0.0          0.0  \n",
            "5          0.0          0.0          0.0          0.0  \n"
          ]
        }
      ]
    },
    {
      "cell_type": "code",
      "source": [
        "# create an empty dataframe to populate with only the years where laws changed\n",
        "change = pd.DataFrame()"
      ],
      "metadata": {
        "id": "etOHg8_fuU5L"
      },
      "execution_count": 184,
      "outputs": []
    },
    {
      "cell_type": "code",
      "source": [
        "# now we can design a loop to scan each column and append the empty dataframe \n",
        "#with the country-year that experiences a change\n",
        "for index in range(len(wb2)):\n",
        "  if wb2.iloc[index,1:].astype(bool).any():\n",
        "    change = change.append(wb2.iloc[index,:])"
      ],
      "metadata": {
        "id": "Soln12VRwkCc"
      },
      "execution_count": 185,
      "outputs": []
    },
    {
      "cell_type": "code",
      "source": [
        "# now we have a dataframe with only the years where changes occurred. \n",
        "# a 1 indicates that the law was implemented, and a -1 indicates a law was repealed\n",
        "# 0 means no change in that law\n",
        "print(change.head())\n",
        "print(len(change))"
      ],
      "metadata": {
        "colab": {
          "base_uri": "https://localhost:8080/"
        },
        "id": "_ZNLA5t11Vo7",
        "outputId": "718c43e2-0411-406d-b18e-d0d6de9d6e88"
      },
      "execution_count": 186,
      "outputs": [
        {
          "output_type": "stream",
          "name": "stdout",
          "text": [
            "   CountryYear  change_EQRM  change_NODC  change_SXHR  change_NMCN  \\\n",
            "18     AFG1988          0.0          0.0          0.0          0.0   \n",
            "29     AFG1999          0.0          0.0          0.0          0.0   \n",
            "46     AFG2016          0.0          0.0          1.0          0.0   \n",
            "78     ALB1996          0.0          1.0          1.0          0.0   \n",
            "98     ALB2016          1.0          0.0          0.0          0.0   \n",
            "\n",
            "    change_PRGW  change_REGT  change_CRDD  change_JOBS  \n",
            "18          1.0          0.0          0.0          0.0  \n",
            "29         -1.0          0.0          0.0          0.0  \n",
            "46          0.0          0.0          0.0          0.0  \n",
            "78          1.0          0.0          0.0          0.0  \n",
            "98          0.0          0.0          0.0          0.0  \n",
            "472\n"
          ]
        }
      ]
    },
    {
      "cell_type": "code",
      "source": [
        "# now we can replace the integer values with the categorical values\n",
        "\n",
        "#making a duplicate just in case\n",
        "changes = change\n",
        "\n",
        "# we will get rid of the 0.0 values\n",
        "changes = changes.replace(to_replace = 0.0, value = \"\")\n",
        "\n",
        "# a -1.0 means something was repealed that year\n",
        "# and a 1.0 means something was implemented that year\n",
        "\n",
        "changes['change_CRDD'] = changes['change_CRDD'].replace(to_replace = -1.0, value = \"Repealed CRDD\")\n",
        "changes['change_CRDD'] = changes['change_CRDD'].replace(to_replace = 1.0, value = \"Implemented CRDD\")\n",
        "\n",
        "changes['change_EQRM'] = changes['change_EQRM'].replace(to_replace = -1.0, value = \"Repealed EQRM\")\n",
        "changes['change_EQRM'] = changes['change_EQRM'].replace(to_replace = 1.0, value = \"Implemented EQRM\")\n",
        "\n",
        "changes['change_NODC'] = changes['change_NODC'].replace(to_replace = -1.0, value = \"Repealed NODC\")\n",
        "changes['change_NODC'] = changes['change_NODC'].replace(to_replace = 1.0, value = \"Implemented NODC\")\n",
        "\n",
        "changes['change_PRGW'] = changes['change_PRGW'].replace(to_replace = -1.0, value = \"Repealed PRGW\")\n",
        "changes['change_PRGW'] = changes['change_PRGW'].replace(to_replace = 1.0, value = \"Implemented PRGW\")\n",
        "\n",
        "changes['change_SXHR'] = changes['change_SXHR'].replace(to_replace = -1.0, value = \"Repealed SXHR\")\n",
        "changes['change_SXHR'] = changes['change_SXHR'].replace(to_replace = 1.0, value = \"Implemented SXHR\")\n",
        "\n",
        "changes['change_NMCN'] = changes['change_NMCN'].replace(to_replace = -1.0, value = \"Repealed NMCN\")\n",
        "changes['change_NMCN'] = changes['change_NMCN'].replace(to_replace = 1.0, value = \"Implemented NMCN\")\n",
        "\n",
        "changes['change_REGT'] = changes['change_REGT'].replace(to_replace = -1.0, value = \"Repealed REGT\")\n",
        "changes['change_REGT'] = changes['change_REGT'].replace(to_replace = 1.0, value = \"Implemented REGT\")\n",
        "\n",
        "changes['change_JOBS'] = changes['change_JOBS'].replace(to_replace = -1.0, value = \"Repealed JOBS\")\n",
        "changes['change_JOBS'] = changes['change_JOBS'].replace(to_replace = 1.0, value = \"Implemented JOBS\")"
      ],
      "metadata": {
        "id": "pJlZDUuNuCAk"
      },
      "execution_count": 187,
      "outputs": []
    },
    {
      "cell_type": "code",
      "source": [
        "# quick check\n",
        "print(changes.head())\n",
        "print(len(changes))"
      ],
      "metadata": {
        "colab": {
          "base_uri": "https://localhost:8080/"
        },
        "id": "VQUzsl5H1DH_",
        "outputId": "ac3697e0-e80d-435e-9d95-f282d4d91040"
      },
      "execution_count": 188,
      "outputs": [
        {
          "output_type": "stream",
          "name": "stdout",
          "text": [
            "   CountryYear       change_EQRM       change_NODC       change_SXHR  \\\n",
            "18     AFG1988                                                         \n",
            "29     AFG1999                                                         \n",
            "46     AFG2016                                      Implemented SXHR   \n",
            "78     ALB1996                    Implemented NODC  Implemented SXHR   \n",
            "98     ALB2016  Implemented EQRM                                       \n",
            "\n",
            "   change_NMCN       change_PRGW change_REGT change_CRDD change_JOBS  \n",
            "18              Implemented PRGW                                      \n",
            "29                 Repealed PRGW                                      \n",
            "46                                                                    \n",
            "78              Implemented PRGW                                      \n",
            "98                                                                    \n",
            "472\n"
          ]
        }
      ]
    },
    {
      "cell_type": "code",
      "source": [
        "# let's melt the data to consolidate the columns\n",
        "# while retaining the country-year as the index\n",
        "# and renaming the values to the change that occurred\n",
        "change_melt = changes.melt(id_vars=['CountryYear'], value_name=\"Change\")\n",
        "print(change_melt.head())"
      ],
      "metadata": {
        "colab": {
          "base_uri": "https://localhost:8080/"
        },
        "id": "umZoZpTb6IqS",
        "outputId": "43e51a74-5cc9-47e5-c587-6220be6286ca"
      },
      "execution_count": 126,
      "outputs": [
        {
          "output_type": "stream",
          "name": "stdout",
          "text": [
            "  CountryYear     variable            Change\n",
            "0     AFG1988  change_EQRM                  \n",
            "1     AFG1999  change_EQRM                  \n",
            "2     AFG2016  change_EQRM                  \n",
            "3     ALB1996  change_EQRM                  \n",
            "4     ALB2016  change_EQRM  Implemented EQRM\n"
          ]
        }
      ]
    },
    {
      "cell_type": "code",
      "source": [
        "# now we can drop the variable column because we have that info in the Change column\n",
        "change_melt = change_melt.drop(columns=['variable'])\n",
        "print(change_melt.head())"
      ],
      "metadata": {
        "colab": {
          "base_uri": "https://localhost:8080/"
        },
        "id": "GWtKE94A9HFH",
        "outputId": "cc6d6076-16a3-4b92-b87d-8872fa969659"
      },
      "execution_count": 127,
      "outputs": [
        {
          "output_type": "stream",
          "name": "stdout",
          "text": [
            "  CountryYear            Change\n",
            "0     AFG1988                  \n",
            "1     AFG1999                  \n",
            "2     AFG2016                  \n",
            "3     ALB1996                  \n",
            "4     ALB2016  Implemented EQRM\n"
          ]
        }
      ]
    },
    {
      "cell_type": "code",
      "source": [
        "# creating a series for the next step\n",
        "x = pd.Series([\"Repealed CRDD\", \"Implemented CRDD\", \"Repealed EQRM\", \"Implemented EQRM\", \"Repealed NODC\", \"Implemented NODC\", \"Repealed PRGW\", \"Implemented PRGW\", \"Repealed SXHR\", \"Implemented SXHR\", \"Repealed NMCN\", \"Implemented NMCN\", \"Repealed REGT\", \"Implemented REGT\", \"Repealed JOBS\", \"Implemented JOBS\"])"
      ],
      "metadata": {
        "id": "93SIiw6MBrbJ"
      },
      "execution_count": 136,
      "outputs": []
    },
    {
      "cell_type": "code",
      "source": [
        "# and remove the rows with empty values in the Change column\n",
        "final = change_melt.loc[change_melt['Change'].isin(x)]\n",
        "print(final.head())\n",
        "print(len(final))"
      ],
      "metadata": {
        "colab": {
          "base_uri": "https://localhost:8080/"
        },
        "id": "RGJgz0f09wDR",
        "outputId": "798d546c-5aac-4bb1-8858-04f0b4aff36d"
      },
      "execution_count": 140,
      "outputs": [
        {
          "output_type": "stream",
          "name": "stdout",
          "text": [
            "   CountryYear            Change\n",
            "4      ALB2016  Implemented EQRM\n",
            "5      DZA1990  Implemented EQRM\n",
            "9      AGO2000  Implemented EQRM\n",
            "13     ARG1976  Implemented EQRM\n",
            "23     AUS1997  Implemented EQRM\n",
            "663\n"
          ]
        }
      ]
    },
    {
      "cell_type": "code",
      "source": [
        "# now let's bring back the country name and year info\n",
        "final2 = final.merge(wb3, on='CountryYear')\n",
        "\n",
        "#quick check\n",
        "print(final2.head())\n",
        "print(len(final2))"
      ],
      "metadata": {
        "colab": {
          "base_uri": "https://localhost:8080/"
        },
        "id": "8cG-h4HyCNLb",
        "outputId": "29e537fa-6a35-4a70-9378-97dec7c5bb6d"
      },
      "execution_count": 152,
      "outputs": [
        {
          "output_type": "stream",
          "name": "stdout",
          "text": [
            "  CountryYear            Change CountryName CountryCode  Year\n",
            "0     ALB2016  Implemented EQRM     Albania         ALB  2016\n",
            "1     DZA1990  Implemented EQRM     Algeria         DZA  1990\n",
            "2     AGO2000  Implemented EQRM      Angola         AGO  2000\n",
            "3     AGO2000  Implemented NODC      Angola         AGO  2000\n",
            "4     ARG1976  Implemented EQRM   Argentina         ARG  1976\n",
            "663\n"
          ]
        }
      ]
    },
    {
      "cell_type": "code",
      "source": [
        "# and summarize the data for visualization\n",
        "years = pd.DataFrame(final2['Year'].value_counts())\n",
        "years.columns=['Count of Changes']\n",
        "years.index.names = ['Year']\n",
        "years\n"
      ],
      "metadata": {
        "colab": {
          "base_uri": "https://localhost:8080/",
          "height": 1000
        },
        "id": "1yNwJZLqFiWg",
        "outputId": "d3207ed1-6273-4110-ef08-32d7f824237c"
      },
      "execution_count": 173,
      "outputs": [
        {
          "output_type": "execute_result",
          "data": {
            "text/plain": [
              "      Count of Changes\n",
              "Year                  \n",
              "2005                25\n",
              "2004                24\n",
              "2000                23\n",
              "1997                23\n",
              "2008                23\n",
              "1973                22\n",
              "2002                22\n",
              "1988                21\n",
              "1995                21\n",
              "2003                20\n",
              "1972                19\n",
              "2006                19\n",
              "2013                18\n",
              "2007                17\n",
              "1998                16\n",
              "2009                16\n",
              "1999                16\n",
              "1993                16\n",
              "1996                15\n",
              "2019                15\n",
              "1990                14\n",
              "1994                14\n",
              "1991                13\n",
              "1981                12\n",
              "1975                12\n",
              "2016                12\n",
              "2018                11\n",
              "1983                11\n",
              "1974                11\n",
              "1979                11\n",
              "1978                10\n",
              "2012                10\n",
              "1980                 9\n",
              "1985                 9\n",
              "1977                 9\n",
              "1984                 9\n",
              "2021                 9\n",
              "2020                 8\n",
              "2010                 8\n",
              "2011                 8\n",
              "2017                 8\n",
              "1976                 8\n",
              "1987                 7\n",
              "1992                 6\n",
              "1986                 6\n",
              "1982                 6\n",
              "2015                 6\n",
              "2014                 5\n",
              "2001                 4\n",
              "1989                 3\n",
              "1971                 3"
            ],
            "text/html": [
              "\n",
              "  <div id=\"df-1b888c06-bbb6-4662-98e6-a8592f863513\">\n",
              "    <div class=\"colab-df-container\">\n",
              "      <div>\n",
              "<style scoped>\n",
              "    .dataframe tbody tr th:only-of-type {\n",
              "        vertical-align: middle;\n",
              "    }\n",
              "\n",
              "    .dataframe tbody tr th {\n",
              "        vertical-align: top;\n",
              "    }\n",
              "\n",
              "    .dataframe thead th {\n",
              "        text-align: right;\n",
              "    }\n",
              "</style>\n",
              "<table border=\"1\" class=\"dataframe\">\n",
              "  <thead>\n",
              "    <tr style=\"text-align: right;\">\n",
              "      <th></th>\n",
              "      <th>Count of Changes</th>\n",
              "    </tr>\n",
              "    <tr>\n",
              "      <th>Year</th>\n",
              "      <th></th>\n",
              "    </tr>\n",
              "  </thead>\n",
              "  <tbody>\n",
              "    <tr>\n",
              "      <th>2005</th>\n",
              "      <td>25</td>\n",
              "    </tr>\n",
              "    <tr>\n",
              "      <th>2004</th>\n",
              "      <td>24</td>\n",
              "    </tr>\n",
              "    <tr>\n",
              "      <th>2000</th>\n",
              "      <td>23</td>\n",
              "    </tr>\n",
              "    <tr>\n",
              "      <th>1997</th>\n",
              "      <td>23</td>\n",
              "    </tr>\n",
              "    <tr>\n",
              "      <th>2008</th>\n",
              "      <td>23</td>\n",
              "    </tr>\n",
              "    <tr>\n",
              "      <th>1973</th>\n",
              "      <td>22</td>\n",
              "    </tr>\n",
              "    <tr>\n",
              "      <th>2002</th>\n",
              "      <td>22</td>\n",
              "    </tr>\n",
              "    <tr>\n",
              "      <th>1988</th>\n",
              "      <td>21</td>\n",
              "    </tr>\n",
              "    <tr>\n",
              "      <th>1995</th>\n",
              "      <td>21</td>\n",
              "    </tr>\n",
              "    <tr>\n",
              "      <th>2003</th>\n",
              "      <td>20</td>\n",
              "    </tr>\n",
              "    <tr>\n",
              "      <th>1972</th>\n",
              "      <td>19</td>\n",
              "    </tr>\n",
              "    <tr>\n",
              "      <th>2006</th>\n",
              "      <td>19</td>\n",
              "    </tr>\n",
              "    <tr>\n",
              "      <th>2013</th>\n",
              "      <td>18</td>\n",
              "    </tr>\n",
              "    <tr>\n",
              "      <th>2007</th>\n",
              "      <td>17</td>\n",
              "    </tr>\n",
              "    <tr>\n",
              "      <th>1998</th>\n",
              "      <td>16</td>\n",
              "    </tr>\n",
              "    <tr>\n",
              "      <th>2009</th>\n",
              "      <td>16</td>\n",
              "    </tr>\n",
              "    <tr>\n",
              "      <th>1999</th>\n",
              "      <td>16</td>\n",
              "    </tr>\n",
              "    <tr>\n",
              "      <th>1993</th>\n",
              "      <td>16</td>\n",
              "    </tr>\n",
              "    <tr>\n",
              "      <th>1996</th>\n",
              "      <td>15</td>\n",
              "    </tr>\n",
              "    <tr>\n",
              "      <th>2019</th>\n",
              "      <td>15</td>\n",
              "    </tr>\n",
              "    <tr>\n",
              "      <th>1990</th>\n",
              "      <td>14</td>\n",
              "    </tr>\n",
              "    <tr>\n",
              "      <th>1994</th>\n",
              "      <td>14</td>\n",
              "    </tr>\n",
              "    <tr>\n",
              "      <th>1991</th>\n",
              "      <td>13</td>\n",
              "    </tr>\n",
              "    <tr>\n",
              "      <th>1981</th>\n",
              "      <td>12</td>\n",
              "    </tr>\n",
              "    <tr>\n",
              "      <th>1975</th>\n",
              "      <td>12</td>\n",
              "    </tr>\n",
              "    <tr>\n",
              "      <th>2016</th>\n",
              "      <td>12</td>\n",
              "    </tr>\n",
              "    <tr>\n",
              "      <th>2018</th>\n",
              "      <td>11</td>\n",
              "    </tr>\n",
              "    <tr>\n",
              "      <th>1983</th>\n",
              "      <td>11</td>\n",
              "    </tr>\n",
              "    <tr>\n",
              "      <th>1974</th>\n",
              "      <td>11</td>\n",
              "    </tr>\n",
              "    <tr>\n",
              "      <th>1979</th>\n",
              "      <td>11</td>\n",
              "    </tr>\n",
              "    <tr>\n",
              "      <th>1978</th>\n",
              "      <td>10</td>\n",
              "    </tr>\n",
              "    <tr>\n",
              "      <th>2012</th>\n",
              "      <td>10</td>\n",
              "    </tr>\n",
              "    <tr>\n",
              "      <th>1980</th>\n",
              "      <td>9</td>\n",
              "    </tr>\n",
              "    <tr>\n",
              "      <th>1985</th>\n",
              "      <td>9</td>\n",
              "    </tr>\n",
              "    <tr>\n",
              "      <th>1977</th>\n",
              "      <td>9</td>\n",
              "    </tr>\n",
              "    <tr>\n",
              "      <th>1984</th>\n",
              "      <td>9</td>\n",
              "    </tr>\n",
              "    <tr>\n",
              "      <th>2021</th>\n",
              "      <td>9</td>\n",
              "    </tr>\n",
              "    <tr>\n",
              "      <th>2020</th>\n",
              "      <td>8</td>\n",
              "    </tr>\n",
              "    <tr>\n",
              "      <th>2010</th>\n",
              "      <td>8</td>\n",
              "    </tr>\n",
              "    <tr>\n",
              "      <th>2011</th>\n",
              "      <td>8</td>\n",
              "    </tr>\n",
              "    <tr>\n",
              "      <th>2017</th>\n",
              "      <td>8</td>\n",
              "    </tr>\n",
              "    <tr>\n",
              "      <th>1976</th>\n",
              "      <td>8</td>\n",
              "    </tr>\n",
              "    <tr>\n",
              "      <th>1987</th>\n",
              "      <td>7</td>\n",
              "    </tr>\n",
              "    <tr>\n",
              "      <th>1992</th>\n",
              "      <td>6</td>\n",
              "    </tr>\n",
              "    <tr>\n",
              "      <th>1986</th>\n",
              "      <td>6</td>\n",
              "    </tr>\n",
              "    <tr>\n",
              "      <th>1982</th>\n",
              "      <td>6</td>\n",
              "    </tr>\n",
              "    <tr>\n",
              "      <th>2015</th>\n",
              "      <td>6</td>\n",
              "    </tr>\n",
              "    <tr>\n",
              "      <th>2014</th>\n",
              "      <td>5</td>\n",
              "    </tr>\n",
              "    <tr>\n",
              "      <th>2001</th>\n",
              "      <td>4</td>\n",
              "    </tr>\n",
              "    <tr>\n",
              "      <th>1989</th>\n",
              "      <td>3</td>\n",
              "    </tr>\n",
              "    <tr>\n",
              "      <th>1971</th>\n",
              "      <td>3</td>\n",
              "    </tr>\n",
              "  </tbody>\n",
              "</table>\n",
              "</div>\n",
              "      <button class=\"colab-df-convert\" onclick=\"convertToInteractive('df-1b888c06-bbb6-4662-98e6-a8592f863513')\"\n",
              "              title=\"Convert this dataframe to an interactive table.\"\n",
              "              style=\"display:none;\">\n",
              "        \n",
              "  <svg xmlns=\"http://www.w3.org/2000/svg\" height=\"24px\"viewBox=\"0 0 24 24\"\n",
              "       width=\"24px\">\n",
              "    <path d=\"M0 0h24v24H0V0z\" fill=\"none\"/>\n",
              "    <path d=\"M18.56 5.44l.94 2.06.94-2.06 2.06-.94-2.06-.94-.94-2.06-.94 2.06-2.06.94zm-11 1L8.5 8.5l.94-2.06 2.06-.94-2.06-.94L8.5 2.5l-.94 2.06-2.06.94zm10 10l.94 2.06.94-2.06 2.06-.94-2.06-.94-.94-2.06-.94 2.06-2.06.94z\"/><path d=\"M17.41 7.96l-1.37-1.37c-.4-.4-.92-.59-1.43-.59-.52 0-1.04.2-1.43.59L10.3 9.45l-7.72 7.72c-.78.78-.78 2.05 0 2.83L4 21.41c.39.39.9.59 1.41.59.51 0 1.02-.2 1.41-.59l7.78-7.78 2.81-2.81c.8-.78.8-2.07 0-2.86zM5.41 20L4 18.59l7.72-7.72 1.47 1.35L5.41 20z\"/>\n",
              "  </svg>\n",
              "      </button>\n",
              "      \n",
              "  <style>\n",
              "    .colab-df-container {\n",
              "      display:flex;\n",
              "      flex-wrap:wrap;\n",
              "      gap: 12px;\n",
              "    }\n",
              "\n",
              "    .colab-df-convert {\n",
              "      background-color: #E8F0FE;\n",
              "      border: none;\n",
              "      border-radius: 50%;\n",
              "      cursor: pointer;\n",
              "      display: none;\n",
              "      fill: #1967D2;\n",
              "      height: 32px;\n",
              "      padding: 0 0 0 0;\n",
              "      width: 32px;\n",
              "    }\n",
              "\n",
              "    .colab-df-convert:hover {\n",
              "      background-color: #E2EBFA;\n",
              "      box-shadow: 0px 1px 2px rgba(60, 64, 67, 0.3), 0px 1px 3px 1px rgba(60, 64, 67, 0.15);\n",
              "      fill: #174EA6;\n",
              "    }\n",
              "\n",
              "    [theme=dark] .colab-df-convert {\n",
              "      background-color: #3B4455;\n",
              "      fill: #D2E3FC;\n",
              "    }\n",
              "\n",
              "    [theme=dark] .colab-df-convert:hover {\n",
              "      background-color: #434B5C;\n",
              "      box-shadow: 0px 1px 3px 1px rgba(0, 0, 0, 0.15);\n",
              "      filter: drop-shadow(0px 1px 2px rgba(0, 0, 0, 0.3));\n",
              "      fill: #FFFFFF;\n",
              "    }\n",
              "  </style>\n",
              "\n",
              "      <script>\n",
              "        const buttonEl =\n",
              "          document.querySelector('#df-1b888c06-bbb6-4662-98e6-a8592f863513 button.colab-df-convert');\n",
              "        buttonEl.style.display =\n",
              "          google.colab.kernel.accessAllowed ? 'block' : 'none';\n",
              "\n",
              "        async function convertToInteractive(key) {\n",
              "          const element = document.querySelector('#df-1b888c06-bbb6-4662-98e6-a8592f863513');\n",
              "          const dataTable =\n",
              "            await google.colab.kernel.invokeFunction('convertToInteractive',\n",
              "                                                     [key], {});\n",
              "          if (!dataTable) return;\n",
              "\n",
              "          const docLinkHtml = 'Like what you see? Visit the ' +\n",
              "            '<a target=\"_blank\" href=https://colab.research.google.com/notebooks/data_table.ipynb>data table notebook</a>'\n",
              "            + ' to learn more about interactive tables.';\n",
              "          element.innerHTML = '';\n",
              "          dataTable['output_type'] = 'display_data';\n",
              "          await google.colab.output.renderOutput(dataTable, element);\n",
              "          const docLink = document.createElement('div');\n",
              "          docLink.innerHTML = docLinkHtml;\n",
              "          element.appendChild(docLink);\n",
              "        }\n",
              "      </script>\n",
              "    </div>\n",
              "  </div>\n",
              "  "
            ]
          },
          "metadata": {},
          "execution_count": 173
        }
      ]
    },
    {
      "cell_type": "code",
      "source": [
        "countries = pd.DataFrame(final2['CountryName'].value_counts())\n",
        "countries.columns=['Count of Changes']\n",
        "countries.index.names = ['Country']\n",
        "countries\n"
      ],
      "metadata": {
        "colab": {
          "base_uri": "https://localhost:8080/",
          "height": 455
        },
        "id": "10SLkTYVIJXn",
        "outputId": "4bd606db-b138-4a7e-b4ff-ab7119586f93"
      },
      "execution_count": 183,
      "outputs": [
        {
          "output_type": "execute_result",
          "data": {
            "text/plain": [
              "                     Count of Changes\n",
              "Country                              \n",
              "Togo                                8\n",
              "South Africa                        8\n",
              "Lesotho                             7\n",
              "Malta                               7\n",
              "Luxembourg                          7\n",
              "...                               ...\n",
              "Papua New Guinea                    1\n",
              "Guinea-Bissau                       1\n",
              "Jordan                              1\n",
              "Antigua and Barbuda                 1\n",
              "Guatemala                           1\n",
              "\n",
              "[181 rows x 1 columns]"
            ],
            "text/html": [
              "\n",
              "  <div id=\"df-454980d7-6851-46c8-94f5-0b230ff9fb06\">\n",
              "    <div class=\"colab-df-container\">\n",
              "      <div>\n",
              "<style scoped>\n",
              "    .dataframe tbody tr th:only-of-type {\n",
              "        vertical-align: middle;\n",
              "    }\n",
              "\n",
              "    .dataframe tbody tr th {\n",
              "        vertical-align: top;\n",
              "    }\n",
              "\n",
              "    .dataframe thead th {\n",
              "        text-align: right;\n",
              "    }\n",
              "</style>\n",
              "<table border=\"1\" class=\"dataframe\">\n",
              "  <thead>\n",
              "    <tr style=\"text-align: right;\">\n",
              "      <th></th>\n",
              "      <th>Count of Changes</th>\n",
              "    </tr>\n",
              "    <tr>\n",
              "      <th>Country</th>\n",
              "      <th></th>\n",
              "    </tr>\n",
              "  </thead>\n",
              "  <tbody>\n",
              "    <tr>\n",
              "      <th>Togo</th>\n",
              "      <td>8</td>\n",
              "    </tr>\n",
              "    <tr>\n",
              "      <th>South Africa</th>\n",
              "      <td>8</td>\n",
              "    </tr>\n",
              "    <tr>\n",
              "      <th>Lesotho</th>\n",
              "      <td>7</td>\n",
              "    </tr>\n",
              "    <tr>\n",
              "      <th>Malta</th>\n",
              "      <td>7</td>\n",
              "    </tr>\n",
              "    <tr>\n",
              "      <th>Luxembourg</th>\n",
              "      <td>7</td>\n",
              "    </tr>\n",
              "    <tr>\n",
              "      <th>...</th>\n",
              "      <td>...</td>\n",
              "    </tr>\n",
              "    <tr>\n",
              "      <th>Papua New Guinea</th>\n",
              "      <td>1</td>\n",
              "    </tr>\n",
              "    <tr>\n",
              "      <th>Guinea-Bissau</th>\n",
              "      <td>1</td>\n",
              "    </tr>\n",
              "    <tr>\n",
              "      <th>Jordan</th>\n",
              "      <td>1</td>\n",
              "    </tr>\n",
              "    <tr>\n",
              "      <th>Antigua and Barbuda</th>\n",
              "      <td>1</td>\n",
              "    </tr>\n",
              "    <tr>\n",
              "      <th>Guatemala</th>\n",
              "      <td>1</td>\n",
              "    </tr>\n",
              "  </tbody>\n",
              "</table>\n",
              "<p>181 rows × 1 columns</p>\n",
              "</div>\n",
              "      <button class=\"colab-df-convert\" onclick=\"convertToInteractive('df-454980d7-6851-46c8-94f5-0b230ff9fb06')\"\n",
              "              title=\"Convert this dataframe to an interactive table.\"\n",
              "              style=\"display:none;\">\n",
              "        \n",
              "  <svg xmlns=\"http://www.w3.org/2000/svg\" height=\"24px\"viewBox=\"0 0 24 24\"\n",
              "       width=\"24px\">\n",
              "    <path d=\"M0 0h24v24H0V0z\" fill=\"none\"/>\n",
              "    <path d=\"M18.56 5.44l.94 2.06.94-2.06 2.06-.94-2.06-.94-.94-2.06-.94 2.06-2.06.94zm-11 1L8.5 8.5l.94-2.06 2.06-.94-2.06-.94L8.5 2.5l-.94 2.06-2.06.94zm10 10l.94 2.06.94-2.06 2.06-.94-2.06-.94-.94-2.06-.94 2.06-2.06.94z\"/><path d=\"M17.41 7.96l-1.37-1.37c-.4-.4-.92-.59-1.43-.59-.52 0-1.04.2-1.43.59L10.3 9.45l-7.72 7.72c-.78.78-.78 2.05 0 2.83L4 21.41c.39.39.9.59 1.41.59.51 0 1.02-.2 1.41-.59l7.78-7.78 2.81-2.81c.8-.78.8-2.07 0-2.86zM5.41 20L4 18.59l7.72-7.72 1.47 1.35L5.41 20z\"/>\n",
              "  </svg>\n",
              "      </button>\n",
              "      \n",
              "  <style>\n",
              "    .colab-df-container {\n",
              "      display:flex;\n",
              "      flex-wrap:wrap;\n",
              "      gap: 12px;\n",
              "    }\n",
              "\n",
              "    .colab-df-convert {\n",
              "      background-color: #E8F0FE;\n",
              "      border: none;\n",
              "      border-radius: 50%;\n",
              "      cursor: pointer;\n",
              "      display: none;\n",
              "      fill: #1967D2;\n",
              "      height: 32px;\n",
              "      padding: 0 0 0 0;\n",
              "      width: 32px;\n",
              "    }\n",
              "\n",
              "    .colab-df-convert:hover {\n",
              "      background-color: #E2EBFA;\n",
              "      box-shadow: 0px 1px 2px rgba(60, 64, 67, 0.3), 0px 1px 3px 1px rgba(60, 64, 67, 0.15);\n",
              "      fill: #174EA6;\n",
              "    }\n",
              "\n",
              "    [theme=dark] .colab-df-convert {\n",
              "      background-color: #3B4455;\n",
              "      fill: #D2E3FC;\n",
              "    }\n",
              "\n",
              "    [theme=dark] .colab-df-convert:hover {\n",
              "      background-color: #434B5C;\n",
              "      box-shadow: 0px 1px 3px 1px rgba(0, 0, 0, 0.15);\n",
              "      filter: drop-shadow(0px 1px 2px rgba(0, 0, 0, 0.3));\n",
              "      fill: #FFFFFF;\n",
              "    }\n",
              "  </style>\n",
              "\n",
              "      <script>\n",
              "        const buttonEl =\n",
              "          document.querySelector('#df-454980d7-6851-46c8-94f5-0b230ff9fb06 button.colab-df-convert');\n",
              "        buttonEl.style.display =\n",
              "          google.colab.kernel.accessAllowed ? 'block' : 'none';\n",
              "\n",
              "        async function convertToInteractive(key) {\n",
              "          const element = document.querySelector('#df-454980d7-6851-46c8-94f5-0b230ff9fb06');\n",
              "          const dataTable =\n",
              "            await google.colab.kernel.invokeFunction('convertToInteractive',\n",
              "                                                     [key], {});\n",
              "          if (!dataTable) return;\n",
              "\n",
              "          const docLinkHtml = 'Like what you see? Visit the ' +\n",
              "            '<a target=\"_blank\" href=https://colab.research.google.com/notebooks/data_table.ipynb>data table notebook</a>'\n",
              "            + ' to learn more about interactive tables.';\n",
              "          element.innerHTML = '';\n",
              "          dataTable['output_type'] = 'display_data';\n",
              "          await google.colab.output.renderOutput(dataTable, element);\n",
              "          const docLink = document.createElement('div');\n",
              "          docLink.innerHTML = docLinkHtml;\n",
              "          element.appendChild(docLink);\n",
              "        }\n",
              "      </script>\n",
              "    </div>\n",
              "  </div>\n",
              "  "
            ]
          },
          "metadata": {},
          "execution_count": 183
        }
      ]
    }
  ]
}